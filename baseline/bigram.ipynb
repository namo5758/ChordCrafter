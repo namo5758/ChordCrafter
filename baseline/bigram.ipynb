{
  "nbformat": 4,
  "nbformat_minor": 0,
  "metadata": {
    "colab": {
      "provenance": []
    },
    "kernelspec": {
      "name": "python3",
      "display_name": "Python 3"
    },
    "language_info": {
      "name": "python"
    }
  },
  "cells": [
    {
      "cell_type": "markdown",
      "source": [
        "#โหลด datasets"
      ],
      "metadata": {
        "id": "-nClW0EOZj8l"
      }
    },
    {
      "cell_type": "code",
      "source": [
        "!wget https://huggingface.co/datasets/ailsntua/Chordonomicon/resolve/main/chordonomicon_v2.csv"
      ],
      "metadata": {
        "colab": {
          "base_uri": "https://localhost:8080/"
        },
        "id": "kk1okeBz_oN0",
        "outputId": "faef3c68-556b-4d3a-bcd7-b13b6020e917"
      },
      "execution_count": null,
      "outputs": [
        {
          "output_type": "stream",
          "name": "stdout",
          "text": [
            "--2025-06-05 04:55:53--  https://huggingface.co/datasets/ailsntua/Chordonomicon/resolve/main/chordonomicon_v2.csv\n",
            "Resolving huggingface.co (huggingface.co)... 3.166.152.65, 3.166.152.105, 3.166.152.110, ...\n",
            "Connecting to huggingface.co (huggingface.co)|3.166.152.65|:443... connected.\n",
            "HTTP request sent, awaiting response... 302 Found\n",
            "Location: https://cdn-lfs-us-1.hf.co/repos/32/19/3219792b72b684216fa25f158f3ef1a4e35d7672f255c70d6f5d5dc6705c53a4/9d2f4ccdc876a4e816712f128e4772b2af558c2a2923cce5be3a0364fbad9a8d?response-content-disposition=inline%3B+filename*%3DUTF-8%27%27chordonomicon_v2.csv%3B+filename%3D%22chordonomicon_v2.csv%22%3B&response-content-type=text%2Fcsv&Expires=1749102953&Policy=eyJTdGF0ZW1lbnQiOlt7IkNvbmRpdGlvbiI6eyJEYXRlTGVzc1RoYW4iOnsiQVdTOkVwb2NoVGltZSI6MTc0OTEwMjk1M319LCJSZXNvdXJjZSI6Imh0dHBzOi8vY2RuLWxmcy11cy0xLmhmLmNvL3JlcG9zLzMyLzE5LzMyMTk3OTJiNzJiNjg0MjE2ZmEyNWYxNThmM2VmMWE0ZTM1ZDc2NzJmMjU1YzcwZDZmNWQ1ZGM2NzA1YzUzYTQvOWQyZjRjY2RjODc2YTRlODE2NzEyZjEyOGU0NzcyYjJhZjU1OGMyYTI5MjNjY2U1YmUzYTAzNjRmYmFkOWE4ZD9yZXNwb25zZS1jb250ZW50LWRpc3Bvc2l0aW9uPSomcmVzcG9uc2UtY29udGVudC10eXBlPSoifV19&Signature=RG585FK6EDt2WGLGAcfWkI%7Es-i5bcoc66q8XBT42wOmR-lLtKmfCSL2HPkBhB7Kc5y7CJZE-9dczT6pJAb%7EfivZSr0vd6l7JiYr%7EY27IzBg9M5oDXYP7nLrp7FdTzZWkonGACZPxksJEi4PcMLe0FgIaItBAxsKQfpZOvSTecpXHTWYL5cSLRVjvNr6sRbKFoCUV4J8xqgpDaSzUweUXE5o5ofCj0fKIIFNN8X3MoDlw2ZsfPW56yx0D5qMCEGV-tJeAJJR-SHx-LfM37ZUQFTe3tK3-bgWg%7EbWhxfTtTuKc9KmCJOoOcQY3IzDE60Mjl%7Eab88ubhDy-UMLuWX%7Eu5w__&Key-Pair-Id=K24J24Z295AEI9 [following]\n",
            "--2025-06-05 04:55:53--  https://cdn-lfs-us-1.hf.co/repos/32/19/3219792b72b684216fa25f158f3ef1a4e35d7672f255c70d6f5d5dc6705c53a4/9d2f4ccdc876a4e816712f128e4772b2af558c2a2923cce5be3a0364fbad9a8d?response-content-disposition=inline%3B+filename*%3DUTF-8%27%27chordonomicon_v2.csv%3B+filename%3D%22chordonomicon_v2.csv%22%3B&response-content-type=text%2Fcsv&Expires=1749102953&Policy=eyJTdGF0ZW1lbnQiOlt7IkNvbmRpdGlvbiI6eyJEYXRlTGVzc1RoYW4iOnsiQVdTOkVwb2NoVGltZSI6MTc0OTEwMjk1M319LCJSZXNvdXJjZSI6Imh0dHBzOi8vY2RuLWxmcy11cy0xLmhmLmNvL3JlcG9zLzMyLzE5LzMyMTk3OTJiNzJiNjg0MjE2ZmEyNWYxNThmM2VmMWE0ZTM1ZDc2NzJmMjU1YzcwZDZmNWQ1ZGM2NzA1YzUzYTQvOWQyZjRjY2RjODc2YTRlODE2NzEyZjEyOGU0NzcyYjJhZjU1OGMyYTI5MjNjY2U1YmUzYTAzNjRmYmFkOWE4ZD9yZXNwb25zZS1jb250ZW50LWRpc3Bvc2l0aW9uPSomcmVzcG9uc2UtY29udGVudC10eXBlPSoifV19&Signature=RG585FK6EDt2WGLGAcfWkI%7Es-i5bcoc66q8XBT42wOmR-lLtKmfCSL2HPkBhB7Kc5y7CJZE-9dczT6pJAb%7EfivZSr0vd6l7JiYr%7EY27IzBg9M5oDXYP7nLrp7FdTzZWkonGACZPxksJEi4PcMLe0FgIaItBAxsKQfpZOvSTecpXHTWYL5cSLRVjvNr6sRbKFoCUV4J8xqgpDaSzUweUXE5o5ofCj0fKIIFNN8X3MoDlw2ZsfPW56yx0D5qMCEGV-tJeAJJR-SHx-LfM37ZUQFTe3tK3-bgWg%7EbWhxfTtTuKc9KmCJOoOcQY3IzDE60Mjl%7Eab88ubhDy-UMLuWX%7Eu5w__&Key-Pair-Id=K24J24Z295AEI9\n",
            "Resolving cdn-lfs-us-1.hf.co (cdn-lfs-us-1.hf.co)... 13.249.98.31, 13.249.98.96, 13.249.98.101, ...\n",
            "Connecting to cdn-lfs-us-1.hf.co (cdn-lfs-us-1.hf.co)|13.249.98.31|:443... connected.\n",
            "HTTP request sent, awaiting response... 200 OK\n",
            "Length: 264198044 (252M) [text/csv]\n",
            "Saving to: ‘chordonomicon_v2.csv’\n",
            "\n",
            "chordonomicon_v2.cs 100%[===================>] 251.96M   150MB/s    in 1.7s    \n",
            "\n",
            "2025-06-05 04:55:55 (150 MB/s) - ‘chordonomicon_v2.csv’ saved [264198044/264198044]\n",
            "\n"
          ]
        }
      ]
    },
    {
      "cell_type": "markdown",
      "source": [
        "# เตรียม datasets"
      ],
      "metadata": {
        "id": "IevxarlgZomD"
      }
    },
    {
      "cell_type": "code",
      "execution_count": null,
      "metadata": {
        "id": "i2YDmmgC_lcE"
      },
      "outputs": [],
      "source": [
        "import pandas as pd, re, random, math, gzip, pickle\n",
        "from collections import Counter, defaultdict\n",
        "from itertools import pairwise\n",
        "\n",
        "CSV_PATH = \"chordonomicon_v2.csv\"\n",
        "MAX_LEN  = 128\n",
        "ADD_EOS  = True\n",
        "random.seed(42)"
      ]
    },
    {
      "cell_type": "code",
      "source": [
        "TAG_REGEX = re.compile(r\"<[^>]+>\")\n",
        "SEP_REGEX = re.compile(r\"[|,\\n]\")\n",
        "\n",
        "def to_tokens(raw: str):\n",
        "    if pd.isna(raw):\n",
        "        return []\n",
        "\n",
        "    s      = TAG_REGEX.sub(\" \", raw)        # ลบ <tag>\n",
        "    s      = SEP_REGEX.sub(\" \", s)          # แทนคั่นเป็นช่องว่าง\n",
        "    s      = re.sub(r\"\\s+\", \" \", s).strip()\n",
        "    tokens = s.split(\" \")[:MAX_LEN]         # clip ยาวเกิน\n",
        "\n",
        "    if ADD_EOS:\n",
        "        if not tokens or tokens[-1] != \"<eos>\":\n",
        "            tokens.append(\"<eos>\")\n",
        "    return tokens"
      ],
      "metadata": {
        "id": "px7Frq9u_vui"
      },
      "execution_count": null,
      "outputs": []
    },
    {
      "cell_type": "code",
      "source": [
        "df   = pd.read_csv(CSV_PATH, usecols=[\"chords\"])\n",
        "seqs = [to_tokens(r) for r in df[\"chords\"] if to_tokens(r)]\n",
        "random.shuffle(seqs)\n",
        "\n",
        "n = len(seqs)\n",
        "train, val, test = seqs[:int(.8*n)], seqs[int(.8*n):int(.9*n)], seqs[int(.9*n):]\n",
        "\n",
        "vocab   = sorted({t for s in train for t in s} | {\"<unk>\"})\n",
        "V       = len(vocab)\n",
        "uni_cnt = Counter(t for s in train for t in s)   # ใช้ซ้ำทุก k\n",
        "total_u = sum(uni_cnt.values())\n",
        "\n",
        "print(f\"raw: {n}, train: {len(train)}, valid: {len(val)}, test: {len(test)}, vocab: {V}\")"
      ],
      "metadata": {
        "id": "bkJHYoBC_zDi",
        "colab": {
          "base_uri": "https://localhost:8080/"
        },
        "outputId": "afe7bda2-5735-41ea-fe55-63ab35ca33ff"
      },
      "execution_count": null,
      "outputs": [
        {
          "output_type": "stream",
          "name": "stdout",
          "text": [
            "raw: 679807, train: 543845, valid: 67981, test: 67981, vocab: 4031\n"
          ]
        }
      ]
    },
    {
      "cell_type": "markdown",
      "source": [
        "# สร้าง Bigram"
      ],
      "metadata": {
        "id": "XUKKvNcuZtSx"
      }
    },
    {
      "cell_type": "code",
      "source": [
        "def ppl_with_k(k):\n",
        "    bi = defaultdict(Counter)\n",
        "    for seq in train:\n",
        "        for w1, w2 in pairwise(seq): bi[w1][w2] += 1\n",
        "\n",
        "    def bigram_prob(w1, w2):\n",
        "        c_w1 = sum(bi[w1].values()) if w1 in bi else 0\n",
        "        return (bi[w1][w2] + k) / (c_w1 + k*V)\n",
        "\n",
        "    # --- PPL บน validation ---\n",
        "    log_sum, N = 0.0, 0\n",
        "    for seq in val:\n",
        "        for w1, w2 in pairwise(seq):\n",
        "            if w2 not in vocab: w2 = \"<unk>\"\n",
        "            p = bigram_prob(w1, w2) if w1 in bi else (uni_cnt[w2]+k)/(total_u+k*V)\n",
        "            log_sum += math.log(p); N += 1\n",
        "    return math.exp(-log_sum / N), bi   # คืนทั้ง PPL และ bigram counts"
      ],
      "metadata": {
        "id": "vWKcqpGccpKJ"
      },
      "execution_count": null,
      "outputs": []
    },
    {
      "cell_type": "code",
      "source": [
        "candidates = [0.25, 0.5, 1, 1.5, 2]\n",
        "best_k, best_ppl, best_bi = None, float('inf'), None\n",
        "for k in candidates:\n",
        "    ppl, bi = ppl_with_k(k)\n",
        "    print(f\"k={k:<4}  PPL(val)={ppl:.2f}\")\n",
        "    if ppl < best_ppl: best_k, best_ppl, best_bi = k, ppl, bi\n",
        "\n",
        "print(f\"\\n>>> เลือก k={best_k} (PPL(val)={best_ppl:.2f})\")\n",
        "\n",
        "bi_cnt = best_bi\n",
        "SMOOTH_K = best_k"
      ],
      "metadata": {
        "colab": {
          "base_uri": "https://localhost:8080/"
        },
        "id": "lcyD9WDwcsF9",
        "outputId": "e77c570e-c7c8-422f-e11a-622ffb519704"
      },
      "execution_count": null,
      "outputs": [
        {
          "output_type": "stream",
          "name": "stdout",
          "text": [
            "k=0.25  PPL(val)=16.56\n",
            "k=0.5   PPL(val)=16.68\n",
            "k=1     PPL(val)=16.87\n",
            "k=1.5   PPL(val)=17.03\n",
            "k=2     PPL(val)=17.17\n",
            "\n",
            ">>> เลือก k=0.25 (PPL(val)=16.56)\n"
          ]
        }
      ]
    },
    {
      "cell_type": "code",
      "source": [
        "def p_w2_given_w1(w1, w2):\n",
        "    c_w1 = sum(bi_cnt[w1].values()) if w1 in bi_cnt else 0\n",
        "    return (bi_cnt[w1][w2] + SMOOTH_K) / (c_w1 + SMOOTH_K*V)\n",
        "\n",
        "def sample_next(w1):\n",
        "    if w1 not in bi_cnt: w1 = \"<unk>\"\n",
        "    if \"_cached\" not in bi_cnt[w1]:\n",
        "        toks, csum, run = [], [], 0.0\n",
        "        for w2, c in bi_cnt[w1].items():\n",
        "            run += (c + SMOOTH_K)/(sum(bi_cnt[w1].values()) + SMOOTH_K*V)\n",
        "            toks.append(w2); csum.append(run)\n",
        "        bi_cnt[w1][\"_cached\"] = (toks, csum)\n",
        "    toks, csum = bi_cnt[w1][\"_cached\"]\n",
        "    r = random.random()\n",
        "    for tok, cum in zip(toks, csum):\n",
        "        if r <= cum: return tok\n",
        "    return random.choice(vocab)"
      ],
      "metadata": {
        "id": "uk5DjxNRjtfj"
      },
      "execution_count": null,
      "outputs": []
    },
    {
      "cell_type": "code",
      "source": [
        "def continue_chords(seed, predict_len=8):\n",
        "    out = list(seed)\n",
        "    while len(out) < len(seed)+predict_len:\n",
        "        prev = out[-1] if out[-1] in vocab else \"<unk>\"\n",
        "        nxt  = sample_next(prev)\n",
        "        if nxt == \"<eos>\": break\n",
        "        out.append(nxt)\n",
        "    return out"
      ],
      "metadata": {
        "id": "LaRc_C74jynT"
      },
      "execution_count": null,
      "outputs": []
    },
    {
      "cell_type": "markdown",
      "source": [
        "# bigram\n",
        "*   PPL: 16.68\n",
        "*   TOP-1 acc: 0.272941349621017\n",
        "*   TOP-3 acc: 0.5482081095003312\n",
        "*   TOP-5 acc: 0.7010817573037015\n",
        "*   TOP-8 acc: 0.8071234086393406\n",
        "\n"
      ],
      "metadata": {
        "id": "_1WhNwn75ibh"
      }
    },
    {
      "cell_type": "code",
      "source": [
        "def perplexity(ds):\n",
        "    log_sum, N = 0.0, 0\n",
        "    for seq in ds:\n",
        "        for w1, w2 in pairwise(seq):\n",
        "            if w2 not in vocab: w2 = \"<unk>\"\n",
        "            p = p_w2_given_w1(w1, w2) if w1 in bi_cnt else (uni_cnt[w2]+SMOOTH_K)/(total_u+SMOOTH_K*V)\n",
        "            log_sum += math.log(p); N += 1\n",
        "    return math.exp(-log_sum/N)\n",
        "\n",
        "print(f\"PPL(test) = {perplexity(test):.2f}\")"
      ],
      "metadata": {
        "id": "EHggoxCCADZt",
        "colab": {
          "base_uri": "https://localhost:8080/"
        },
        "outputId": "92306f56-6ad8-4a98-86ba-8c2cccf00a66"
      },
      "execution_count": null,
      "outputs": [
        {
          "output_type": "stream",
          "name": "stdout",
          "text": [
            "PPL(test) = 16.64\n"
          ]
        }
      ]
    },
    {
      "cell_type": "code",
      "source": [
        "def top_k_accuracy(dataset, k=3, context_len=4):\n",
        "    hit, total = 0, 0\n",
        "    for seq in dataset:\n",
        "        if len(seq) <= context_len:\n",
        "            continue\n",
        "\n",
        "        prev      = seq[context_len - 1]\n",
        "        true_next = seq[context_len]\n",
        "\n",
        "        if prev not in bi_cnt:\n",
        "            prev = \"<unk>\"\n",
        "\n",
        "        # --- กรองออกเฉพาะ entry ที่เป็นตัวเลข (count) ---\n",
        "        numeric_items = [(w2, c) for w2, c in bi_cnt[prev].items()\n",
        "                         if isinstance(c, (int, float))]\n",
        "\n",
        "        # เผื่อ prev เจอแต่ cache (กรณีหายาก) → ข้ามไป\n",
        "        if not numeric_items:\n",
        "            continue\n",
        "\n",
        "        ranked = sorted(numeric_items,\n",
        "                        key=lambda x: -(x[1] + SMOOTH_K))\n",
        "\n",
        "        top_k = [w for w, _ in ranked[:k]]\n",
        "\n",
        "        if true_next in top_k:\n",
        "            hit += 1\n",
        "        total += 1\n",
        "\n",
        "    return hit / total if total else 0.0"
      ],
      "metadata": {
        "id": "avqUvbKe1Lqn"
      },
      "execution_count": null,
      "outputs": []
    },
    {
      "cell_type": "code",
      "source": [
        "print(\"Top‑1 acc (test):\", top_k_accuracy(test, k=1))\n",
        "print(\"Top‑3 acc (test):\", top_k_accuracy(test, k=3))\n",
        "print(\"Top‑5 acc (test):\", top_k_accuracy(test, k=5))\n",
        "print(\"Top‑8 acc (test):\", top_k_accuracy(test, k=8))"
      ],
      "metadata": {
        "colab": {
          "base_uri": "https://localhost:8080/"
        },
        "id": "M5v0sMx61Niv",
        "outputId": "9e0c2924-dc73-4295-fd91-a2ae0f64161c"
      },
      "execution_count": null,
      "outputs": [
        {
          "output_type": "stream",
          "name": "stdout",
          "text": [
            "Top‑1 acc (test): 0.272941349621017\n",
            "Top‑3 acc (test): 0.5482081095003312\n",
            "Top‑5 acc (test): 0.7010817573037015\n",
            "Top‑8 acc (test): 0.8071234086393406\n"
          ]
        }
      ]
    },
    {
      "cell_type": "markdown",
      "source": [
        "# Evaluation\n"
      ],
      "metadata": {
        "id": "Ynyw5ApPd_X_"
      }
    },
    {
      "cell_type": "code",
      "source": [
        "ROOT_RE = re.compile(r\"^([A-Ga-g])([#b♯♭]?)(.*)$\")\n",
        "PC_NUM  = {\"C\":0,\"C#\":1,\"Db\":1,\"D\":2,\"D#\":3,\"Eb\":3,\"E\":4,\"F\":5,\"F#\":6,\"Gb\":6,\n",
        "           \"G\":7,\"G#\":8,\"Ab\":8,\"A\":9,\"A#\":10,\"Bb\":10,\"B\":11,\"Cb\":11}\n",
        "\n",
        "def parse_root(tok:str)->int|None:\n",
        "    m = ROOT_RE.match(tok.strip())\n",
        "    if not m: return None\n",
        "    note = m.group(1).upper() + m.group(2).replace('♯','#').replace('♭','b')\n",
        "    return PC_NUM.get(note)\n",
        "\n",
        "def circ_dist(a:int,b:int)->int:\n",
        "    diff = abs(a-b)\n",
        "    return min(diff, 12-diff)\n",
        "\n",
        "def avg_step_distance(tokens:list[str])->float|None:\n",
        "    s, n = 0, 0\n",
        "    for a, b in zip(tokens[:-1], tokens[1:]):\n",
        "        ra, rb = parse_root(a), parse_root(b)\n",
        "        if ra is not None and rb is not None:\n",
        "            s += circ_dist(ra, rb); n += 1\n",
        "    return s / n if n else None\n",
        "\n",
        "SEED_LEN   = 4\n",
        "GEN_LEN    = 32\n",
        "pred_sum = pred_cnt = 0\n",
        "\n",
        "for seq in test:\n",
        "    if len(seq) < SEED_LEN:\n",
        "        continue\n",
        "\n",
        "    seed_tokens = seq[:SEED_LEN]\n",
        "    pred_tokens = continue_chords(seed_tokens, GEN_LEN)\n",
        "\n",
        "    d_pred = avg_step_distance(pred_tokens)\n",
        "    if d_pred is not None:\n",
        "        pred_sum += d_pred\n",
        "        pred_cnt += 1\n",
        "\n",
        "avg_pred_step = pred_sum / pred_cnt\n",
        "print(f\"◾ Bigram predicted progression\\n   average root-to-root distance = {avg_pred_step:.3f} semitones\")"
      ],
      "metadata": {
        "id": "AtprMvBteDF9",
        "colab": {
          "base_uri": "https://localhost:8080/"
        },
        "outputId": "5dcb5bb6-5501-413d-dd75-2f66bcf253cb"
      },
      "execution_count": null,
      "outputs": [
        {
          "output_type": "stream",
          "name": "stdout",
          "text": [
            "◾ Bigram predicted progression\n",
            "   average root-to-root distance = 3.511 semitones\n"
          ]
        }
      ]
    },
    {
      "cell_type": "code",
      "source": [
        "SEED_LEN = 4\n",
        "GEN_LEN  = 32\n",
        "\n",
        "from collections import Counter\n",
        "pred_counter = Counter()\n",
        "pred_total   = 0\n",
        "\n",
        "for seq in test:\n",
        "    if len(seq) < SEED_LEN:\n",
        "        continue\n",
        "\n",
        "    seed_tokens = seq[:SEED_LEN]\n",
        "    gen_tokens  = continue_chords(seed_tokens, GEN_LEN)\n",
        "\n",
        "    # ตัด <eos> ออกถ้ามี แล้วสะสม\n",
        "    for tok in gen_tokens:\n",
        "        if tok != \"<eos>\":\n",
        "            pred_counter[tok] += 1\n",
        "            pred_total       += 1\n",
        "\n",
        "\n",
        "import math\n",
        "\n",
        "def entropy(counter:Counter, total:int) -> float:\n",
        "    \"\"\" Shannon entropy (base-2) ของฮิสโทแกรมคอร์ด \"\"\"\n",
        "    return -sum((c/total)*math.log2(c/total)\n",
        "                for c in counter.values() if c)\n",
        "\n",
        "che_pred = entropy(pred_counter, pred_total)\n",
        "print(f\"Chord-Histogram Entropy (Bigram predictions) : {che_pred:.3f} bits\")"
      ],
      "metadata": {
        "colab": {
          "base_uri": "https://localhost:8080/"
        },
        "id": "aRraH76YiaHx",
        "outputId": "547248f3-de29-4231-c559-59d860004641"
      },
      "execution_count": null,
      "outputs": [
        {
          "output_type": "stream",
          "name": "stdout",
          "text": [
            "Chord-Histogram Entropy (Bigram predictions) : 5.783 bits\n"
          ]
        }
      ]
    },
    {
      "cell_type": "code",
      "source": [
        "import re, math\n",
        "import music21 as m21\n",
        "ROOT_RE = re.compile(r\"^([A-Ga-g])([#b♯♭]?)(.*)$\")\n",
        "PC_NUM  = {'C':0,'C#':1,'Db':1,'D':2,'D#':3,'Eb':3,'E':4,'F':5,'F#':6,'Gb':6,\n",
        "           'G':7,'G#':8,'Ab':8,'A':9,'A#':10,'Bb':10,'B':11,'Cb':11}\n",
        "\n",
        "def simplify(tok:str)->str|None:\n",
        "    \"\"\"เหลือ root + quality หลัก ('', m, dim) เพื่อเช็กกับคีย์\"\"\"\n",
        "    m = ROOT_RE.match(tok)\n",
        "    if not m: return None\n",
        "    root, acc, qual = m.groups()\n",
        "    root = root.upper() + acc.replace('♯','#').replace('♭','b')\n",
        "    q = ('m' if qual.lower().startswith(('m','min')) else\n",
        "         'dim' if ('dim' in qual.lower() or 'o' in qual) else '')\n",
        "    return root + q\n",
        "\n",
        "def diatonic_set(key_root:str, mode:str) -> set[str]:\n",
        "    \"\"\"คืนเซ็ตคอร์ดไดอะโทนิก root+qual ('C','Dm','Edim',…)\"\"\"\n",
        "    major_map = {1:'',2:'m',3:'m',4:'',5:'',6:'m',7:'dim'}\n",
        "    minor_map = {1:'m',2:'dim',3:'',4:'m',5:'m',6:'',7:''}\n",
        "    mapping   = major_map if mode=='major' else minor_map\n",
        "\n",
        "    scale = (m21.scale.MajorScale if mode=='major'\n",
        "             else m21.scale.MinorScale)(key_root)\n",
        "\n",
        "    diat = set()\n",
        "    for deg,q in mapping.items():\n",
        "        # music21 จะให้ชื่อโน้ตถูกต้อง (มี #/b เมื่อจำเป็น)\n",
        "        note = scale.pitchFromDegree(deg).name.replace('-', 'b')\n",
        "        diat.add(note + q)\n",
        "    return diat\n",
        "\n",
        "def guess_key(chords:list[str])->tuple[str,str]:\n",
        "    \"\"\"เดาคีย์หยาบ: root ที่เจอบ่อยสุด + mode major/minor\"\"\"\n",
        "    roots = [c[0].upper() for c in chords if c]\n",
        "    root  = max(set(roots), key=roots.count) if roots else 'C'\n",
        "    mode  = 'minor' if any(c.lower().endswith(('m','min')) for c in chords) else 'major'\n",
        "    return root, mode\n",
        "\n",
        "\n",
        "SEED_LEN = 4\n",
        "GEN_LEN  = 32\n",
        "\n",
        "kc_in, kc_total = 0, 0\n",
        "\n",
        "for seq in test:\n",
        "    if len(seq) < SEED_LEN:\n",
        "        continue\n",
        "\n",
        "    seed = seq[:SEED_LEN]\n",
        "    pred = continue_chords(seed, GEN_LEN)\n",
        "\n",
        "    key_root, key_mode = guess_key(pred)\n",
        "    diat_set = diatonic_set(key_root, key_mode)\n",
        "\n",
        "    for tok in pred:\n",
        "        simp = simplify(tok)\n",
        "        if simp is None:\n",
        "            continue\n",
        "        kc_total += 1\n",
        "        if simp in diat_set:\n",
        "            kc_in += 1\n",
        "\n",
        "kc_pred = kc_in / kc_total if kc_total else 0.0\n",
        "print(f\"Key-Consistency (Bigram predictions) : {kc_pred:.2%}\")"
      ],
      "metadata": {
        "colab": {
          "base_uri": "https://localhost:8080/"
        },
        "id": "0oQEjq87jMjq",
        "outputId": "257d2d64-bb78-42be-d4bb-8e871867a444"
      },
      "execution_count": null,
      "outputs": [
        {
          "output_type": "stream",
          "name": "stdout",
          "text": [
            "Key-Consistency (Bigram predictions) : 31.05%\n"
          ]
        }
      ]
    },
    {
      "cell_type": "code",
      "source": [
        "import re, numpy as np, music21 as m21\n",
        "from functools import lru_cache\n",
        "\n",
        "ROOT_RE = re.compile(r\"^([A-Ga-g])([#b♯♭]?)(.*)$\")\n",
        "PC_NUM  = {'C':0,'C#':1,'Db':1,'D':2,'D#':3,'Eb':3,'E':4,'F':5,'F#':6,'Gb':6,\n",
        "           'G':7,'G#':8,'Ab':8,'A':9,'A#':10,'Bb':10,'B':11,'Cb':11}\n",
        "circ_dist = lambda a,b: min(abs(a-b), 12-abs(a-b))\n",
        "\n",
        "@lru_cache(maxsize=4096)\n",
        "def chord_vec(tok:str)->np.ndarray:\n",
        "    \"\"\"เวกเตอร์ pitch-class เต็ม (12-dim)\"\"\"\n",
        "    pcs=set()\n",
        "    try:\n",
        "        pcs={p.pitchClass for p in m21.harmony.ChordSymbol(tok).pitches}\n",
        "    except Exception:                                  # fallback triadง่ายๆ\n",
        "        m=ROOT_RE.match(tok); pcs={0} if not m else {\n",
        "            (r:=PC_NUM[m.group(1).upper()+m.group(2).replace('♯','#').replace('♭','b')]),\n",
        "            (r+7)%12, (r+3)%12 if 'm' in tok.lower() else (r+4)%12}\n",
        "    v=np.zeros(12); v[list(pcs)]=1\n",
        "    return v/len(pcs)\n",
        "\n",
        "def cloud_diam(pcs:set[int])->int:\n",
        "    return 0 if len(pcs)<2 else max(circ_dist(a,b) for a in pcs for b in pcs)\n",
        "\n",
        "def quick_key(chords:list[str])->np.ndarray:\n",
        "    roots=[c[0].upper() for c in chords if c]\n",
        "    root=max(set(roots), key=roots.count) if roots else 'C'\n",
        "    mode='minor' if any(c.lower().endswith(('m','min')) for c in chords) else 'major'\n",
        "    return chord_vec(root + ('m' if mode=='minor' else ''))\n",
        "\n",
        "def bucket():\n",
        "    return dict(cd=0, cm=0, ts=0, n_cd=0, n_cm=0, n_ts=0)\n",
        "\n",
        "def update(tokens:list[str], acc:dict):\n",
        "    tonic = quick_key(tokens)\n",
        "    prev  = None\n",
        "    for t in tokens:\n",
        "        v   = chord_vec(t)\n",
        "        pcs = np.where(v>0)[0]\n",
        "        acc[\"cd\"]  += cloud_diam(set(pcs)); acc[\"n_cd\"] += 1\n",
        "        acc[\"ts\"]  += np.linalg.norm(v-tonic); acc[\"n_ts\"] += 1\n",
        "        if prev is not None:\n",
        "            acc[\"cm\"] += np.linalg.norm(v-prev); acc[\"n_cm\"] += 1\n",
        "        prev = v\n",
        "\n",
        "SEED_LEN, GEN_LEN = 4, 32\n",
        "metrics = bucket()\n",
        "\n",
        "for seq in test:\n",
        "    if len(seq) < SEED_LEN:\n",
        "        continue\n",
        "    seed = seq[:SEED_LEN]\n",
        "    pred = continue_chords(seed, GEN_LEN)\n",
        "    update(pred, metrics)\n",
        "\n",
        "avg = lambda key: metrics[key]/metrics[f\"n_{key}\"] if metrics[f\"n_{key}\"] else 0\n",
        "print(f\"{'Metric':6} | Bigram-Predictions\")\n",
        "print(\"-\"*32)\n",
        "print(f\"CD     | {avg('cd'):.2f}\")\n",
        "print(f\"CM     | {avg('cm'):.2f}\")\n",
        "print(f\"TS     | {avg('ts'):.2f}\")"
      ],
      "metadata": {
        "colab": {
          "base_uri": "https://localhost:8080/"
        },
        "id": "VTGePBp6kRdA",
        "outputId": "f6092b1a-71dc-4f88-c2d4-19420be8c12b"
      },
      "execution_count": null,
      "outputs": [
        {
          "output_type": "stream",
          "name": "stdout",
          "text": [
            "Metric | Bigram-Predictions\n",
            "--------------------------------\n",
            "CD     | 5.04\n",
            "CM     | 0.66\n",
            "TS     | 0.62\n"
          ]
        }
      ]
    },
    {
      "cell_type": "markdown",
      "source": [
        "# Demo\n",
        "เดา 8 คอร์ดถัดไป"
      ],
      "metadata": {
        "id": "eKZNx75zeZ12"
      }
    },
    {
      "cell_type": "code",
      "source": [
        "def continue_chords(seed, predict_len=8):\n",
        "    out = list(seed)\n",
        "    while len(out) < len(seed)+predict_len:\n",
        "        prev = out[-1] if out[-1] in vocab else \"<unk>\"\n",
        "        nxt  = sample_next(prev)\n",
        "        if nxt == \"<eos>\": break\n",
        "        out.append(nxt)\n",
        "    return out\n",
        "\n",
        "demo = [\"C\", \"D\", \"G7\"]\n",
        "print(\"Seed :\", \" \".join(demo))\n",
        "print(\"→    :\", \" \".join(continue_chords(demo, 8)))"
      ],
      "metadata": {
        "colab": {
          "base_uri": "https://localhost:8080/"
        },
        "id": "_Og81_oJA_kk",
        "outputId": "f2f1a1f1-816d-4ef8-d02b-7935962ad39a"
      },
      "execution_count": null,
      "outputs": [
        {
          "output_type": "stream",
          "name": "stdout",
          "text": [
            "Seed : C D G7\n",
            "→    : C D G7 C D Emin D Amin7 D9 F Dmin\n"
          ]
        }
      ]
    }
  ]
}